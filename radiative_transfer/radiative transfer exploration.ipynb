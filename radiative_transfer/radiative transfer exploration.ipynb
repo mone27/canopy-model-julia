{
 "cells": [
  {
   "cell_type": "code",
   "execution_count": 2,
   "metadata": {},
   "outputs": [
    {
     "name": "stderr",
     "output_type": "stream",
     "text": [
      "Gtk-Message: 20:58:33.956: Failed to load module \"canberra-gtk-module\"\n",
      "Gtk-Message: 20:58:33.956: Failed to load module \"pk-gtk-module\"\n",
      "Gtk-Message: 20:58:33.957: Failed to load module \"canberra-gtk-module\"\n",
      "Gtk-Message: 20:58:33.957: Failed to load module \"pk-gtk-module\"\n"
     ]
    }
   ],
   "source": [
    "using DataFrames\n",
    "using CSV\n",
    "using Query\n",
    "using TimeZones\n",
    "using ProfileView"
   ]
  },
  {
   "cell_type": "code",
   "execution_count": 11,
   "metadata": {},
   "outputs": [],
   "source": [
    "include(\"radiative_transfer_model.jl\")\n",
    "include(\"parameters_hainich.jl\");"
   ]
  },
  {
   "cell_type": "code",
   "execution_count": 4,
   "metadata": {},
   "outputs": [
    {
     "data": {
      "text/plain": [
       "read_fluxnet (generic function with 1 method)"
      ]
     },
     "execution_count": 4,
     "metadata": {},
     "output_type": "execute_result"
    }
   ],
   "source": [
    "function read_fluxnet(path)\n",
    "  df = CSV.File(path)|> \n",
    "    DataFrame |>\n",
    "    @select(:datetime, :SW_IN_F, :SW_DIF, :SW_OUT, :LW_IN_F, :LW_OUT, :TS_F_MDS_1, :TA_F, :zenith) |>\n",
    "  # just change the name of the columns and in next step give them a corrent value\n",
    "    @rename(:SW_IN_F => :sw_sky,\n",
    "            :SW_DIF => :sw_sky_d,\n",
    "            :LW_IN_F => :lw_sky,\n",
    "            :TA_F => :t_leaf,       # Temperature of air aproximation for leaf T for now\n",
    "            :TS_F_MDS_1 => :t_soil, # Temp soil at 2cm depth\n",
    "            :SW_OUT => :sw_out,\n",
    "            :LW_OUT => :lw_out   ) |>\n",
    "    @mutate(sw_sky_b = _.sw_sky - _.sw_sky_d,  # SW_IN_F is the total radiation direct + diffuse\n",
    "            t_leaf = 273.15 + _.t_leaf,       # Temperature of air aproximation for leaf T for now\n",
    "            t_soil = 273.15 + _.t_soil ) |> # Temp soil at 2cm depth            \n",
    "    DataFrame\n",
    "#     df[!, :sw_sky_b] =  df.sw_sky - df.sw_sky_d\n",
    "#     df.t_leaf = 273.15 .+ df.t_leaf       # Temperature of air aproximation for leaf T for now\n",
    "#     df.t_soil = 273.15 .+ df.t_soil\n",
    "    df.datetime = ZonedDateTime.(df.datetime, \"yyyy-mm-dd HH:MM:SSzzzz\")\n",
    "    \n",
    "    return df\n",
    "end"
   ]
  },
  {
   "cell_type": "code",
   "execution_count": 5,
   "metadata": {},
   "outputs": [
    {
     "data": {
      "text/html": [
       "<table class=\"data-frame\"><thead><tr><th></th><th>datetime</th><th>sw_sky</th><th>sw_sky_d</th><th>sw_out</th><th>lw_sky</th><th>lw_out</th><th>t_soil</th></tr><tr><th></th><th>ZonedDa…</th><th>Float64</th><th>Float64?</th><th>Float64?</th><th>Float64</th><th>Float64?</th><th>Float64</th></tr></thead><tbody><p>52,608 rows × 10 columns (omitted printing of 3 columns)</p><tr><th>1</th><td>2016-01-01T00:30:00+01:00</td><td>0.0</td><td>0.0</td><td>0.0</td><td>315.43</td><td>319.24</td><td>276.15</td></tr><tr><th>2</th><td>2016-01-01T01:00:00+01:00</td><td>0.0</td><td>0.0</td><td>0.0</td><td>316.54</td><td>318.77</td><td>276.165</td></tr><tr><th>3</th><td>2016-01-01T01:30:00+01:00</td><td>0.0</td><td>0.0</td><td>0.0</td><td>317.94</td><td>319.61</td><td>276.19</td></tr><tr><th>4</th><td>2016-01-01T02:00:00+01:00</td><td>0.0</td><td>0.0</td><td>0.0</td><td>316.63</td><td>319.92</td><td>276.22</td></tr><tr><th>5</th><td>2016-01-01T02:30:00+01:00</td><td>0.0</td><td>0.0</td><td>0.0</td><td>318.29</td><td>320.42</td><td>276.235</td></tr><tr><th>6</th><td>2016-01-01T03:00:00+01:00</td><td>0.0</td><td>0.0</td><td>0.0</td><td>318.01</td><td>320.26</td><td>276.27</td></tr><tr><th>7</th><td>2016-01-01T03:30:00+01:00</td><td>0.0</td><td>0.0</td><td>0.0</td><td>318.76</td><td>320.78</td><td>276.29</td></tr><tr><th>8</th><td>2016-01-01T04:00:00+01:00</td><td>0.0</td><td>0.0</td><td>0.0</td><td>318.37</td><td>320.74</td><td>276.31</td></tr><tr><th>9</th><td>2016-01-01T04:30:00+01:00</td><td>0.0</td><td>0.0</td><td>0.0</td><td>318.18</td><td>321.27</td><td>276.33</td></tr><tr><th>10</th><td>2016-01-01T05:00:00+01:00</td><td>0.0</td><td>0.0</td><td>0.0</td><td>316.44</td><td>320.71</td><td>276.35</td></tr><tr><th>11</th><td>2016-01-01T05:30:00+01:00</td><td>0.0</td><td>0.0</td><td>0.0</td><td>313.79</td><td>320.05</td><td>276.365</td></tr><tr><th>12</th><td>2016-01-01T06:00:00+01:00</td><td>0.0</td><td>0.0</td><td>0.0</td><td>305.3</td><td>319.44</td><td>276.355</td></tr><tr><th>13</th><td>2016-01-01T06:30:00+01:00</td><td>0.0</td><td>0.0</td><td>0.0</td><td>290.54</td><td>319.23</td><td>276.335</td></tr><tr><th>14</th><td>2016-01-01T07:00:00+01:00</td><td>0.0</td><td>0.0</td><td>0.0</td><td>277.36</td><td>318.8</td><td>276.295</td></tr><tr><th>15</th><td>2016-01-01T07:30:00+01:00</td><td>0.0</td><td>0.0</td><td>0.0</td><td>273.39</td><td>318.15</td><td>276.255</td></tr><tr><th>16</th><td>2016-01-01T08:00:00+01:00</td><td>0.0</td><td>0.0</td><td>0.0</td><td>246.24</td><td>316.2</td><td>276.21</td></tr><tr><th>17</th><td>2016-01-01T08:30:00+01:00</td><td>0.0</td><td>0.0</td><td>0.0</td><td>234.28</td><td>315.9</td><td>276.135</td></tr><tr><th>18</th><td>2016-01-01T09:00:00+01:00</td><td>11.72</td><td>11.18</td><td>2.54</td><td>250.96</td><td>316.53</td><td>276.085</td></tr><tr><th>19</th><td>2016-01-01T09:30:00+01:00</td><td>24.62</td><td>23.46</td><td>1.65</td><td>271.92</td><td>317.41</td><td>276.105</td></tr><tr><th>20</th><td>2016-01-01T10:00:00+01:00</td><td>48.66</td><td>50.06</td><td>2.57</td><td>298.83</td><td>319.2</td><td>276.17</td></tr><tr><th>21</th><td>2016-01-01T10:30:00+01:00</td><td>73.71</td><td>74.07</td><td>4.39</td><td>299.76</td><td>320.39</td><td>276.3</td></tr><tr><th>22</th><td>2016-01-01T11:00:00+01:00</td><td>78.44</td><td>78.59</td><td>3.9</td><td>307.03</td><td>321.44</td><td>276.41</td></tr><tr><th>23</th><td>2016-01-01T11:30:00+01:00</td><td>49.44</td><td>45.16</td><td>0.66</td><td>296.42</td><td>321.24</td><td>276.505</td></tr><tr><th>24</th><td>2016-01-01T12:00:00+01:00</td><td>78.93</td><td>75.57</td><td>4.01</td><td>298.44</td><td>322.14</td><td>276.54</td></tr><tr><th>25</th><td>2016-01-01T12:30:00+01:00</td><td>117.43</td><td>114.57</td><td>7.04</td><td>287.9</td><td>323.22</td><td>276.62</td></tr><tr><th>26</th><td>2016-01-01T13:00:00+01:00</td><td>91.25</td><td>89.47</td><td>4.24</td><td>299.97</td><td>323.7</td><td>276.72</td></tr><tr><th>27</th><td>2016-01-01T13:30:00+01:00</td><td>74.78</td><td>73.68</td><td>2.54</td><td>312.62</td><td>323.93</td><td>276.78</td></tr><tr><th>28</th><td>2016-01-01T14:00:00+01:00</td><td>84.24</td><td>87.86</td><td>3.52</td><td>319.55</td><td>324.8</td><td>276.885</td></tr><tr><th>29</th><td>2016-01-01T14:30:00+01:00</td><td>64.82</td><td>68.13</td><td>1.33</td><td>320.3</td><td>325.23</td><td>276.945</td></tr><tr><th>30</th><td>2016-01-01T15:00:00+01:00</td><td>74.37</td><td>81.28</td><td>1.56</td><td>312.42</td><td>326.24</td><td>277.02</td></tr><tr><th>&vellip;</th><td>&vellip;</td><td>&vellip;</td><td>&vellip;</td><td>&vellip;</td><td>&vellip;</td><td>&vellip;</td><td>&vellip;</td></tr></tbody></table>"
      ],
      "text/latex": [
       "\\begin{tabular}{r|cccccccc}\n",
       "\t& datetime & sw\\_sky & sw\\_sky\\_d & sw\\_out & lw\\_sky & lw\\_out & t\\_soil & \\\\\n",
       "\t\\hline\n",
       "\t& ZonedDa… & Float64 & Float64? & Float64? & Float64 & Float64? & Float64 & \\\\\n",
       "\t\\hline\n",
       "\t1 & 2016-01-01T00:30:00+01:00 & 0.0 & 0.0 & 0.0 & 315.43 & 319.24 & 276.15 & $\\dots$ \\\\\n",
       "\t2 & 2016-01-01T01:00:00+01:00 & 0.0 & 0.0 & 0.0 & 316.54 & 318.77 & 276.165 & $\\dots$ \\\\\n",
       "\t3 & 2016-01-01T01:30:00+01:00 & 0.0 & 0.0 & 0.0 & 317.94 & 319.61 & 276.19 & $\\dots$ \\\\\n",
       "\t4 & 2016-01-01T02:00:00+01:00 & 0.0 & 0.0 & 0.0 & 316.63 & 319.92 & 276.22 & $\\dots$ \\\\\n",
       "\t5 & 2016-01-01T02:30:00+01:00 & 0.0 & 0.0 & 0.0 & 318.29 & 320.42 & 276.235 & $\\dots$ \\\\\n",
       "\t6 & 2016-01-01T03:00:00+01:00 & 0.0 & 0.0 & 0.0 & 318.01 & 320.26 & 276.27 & $\\dots$ \\\\\n",
       "\t7 & 2016-01-01T03:30:00+01:00 & 0.0 & 0.0 & 0.0 & 318.76 & 320.78 & 276.29 & $\\dots$ \\\\\n",
       "\t8 & 2016-01-01T04:00:00+01:00 & 0.0 & 0.0 & 0.0 & 318.37 & 320.74 & 276.31 & $\\dots$ \\\\\n",
       "\t9 & 2016-01-01T04:30:00+01:00 & 0.0 & 0.0 & 0.0 & 318.18 & 321.27 & 276.33 & $\\dots$ \\\\\n",
       "\t10 & 2016-01-01T05:00:00+01:00 & 0.0 & 0.0 & 0.0 & 316.44 & 320.71 & 276.35 & $\\dots$ \\\\\n",
       "\t11 & 2016-01-01T05:30:00+01:00 & 0.0 & 0.0 & 0.0 & 313.79 & 320.05 & 276.365 & $\\dots$ \\\\\n",
       "\t12 & 2016-01-01T06:00:00+01:00 & 0.0 & 0.0 & 0.0 & 305.3 & 319.44 & 276.355 & $\\dots$ \\\\\n",
       "\t13 & 2016-01-01T06:30:00+01:00 & 0.0 & 0.0 & 0.0 & 290.54 & 319.23 & 276.335 & $\\dots$ \\\\\n",
       "\t14 & 2016-01-01T07:00:00+01:00 & 0.0 & 0.0 & 0.0 & 277.36 & 318.8 & 276.295 & $\\dots$ \\\\\n",
       "\t15 & 2016-01-01T07:30:00+01:00 & 0.0 & 0.0 & 0.0 & 273.39 & 318.15 & 276.255 & $\\dots$ \\\\\n",
       "\t16 & 2016-01-01T08:00:00+01:00 & 0.0 & 0.0 & 0.0 & 246.24 & 316.2 & 276.21 & $\\dots$ \\\\\n",
       "\t17 & 2016-01-01T08:30:00+01:00 & 0.0 & 0.0 & 0.0 & 234.28 & 315.9 & 276.135 & $\\dots$ \\\\\n",
       "\t18 & 2016-01-01T09:00:00+01:00 & 11.72 & 11.18 & 2.54 & 250.96 & 316.53 & 276.085 & $\\dots$ \\\\\n",
       "\t19 & 2016-01-01T09:30:00+01:00 & 24.62 & 23.46 & 1.65 & 271.92 & 317.41 & 276.105 & $\\dots$ \\\\\n",
       "\t20 & 2016-01-01T10:00:00+01:00 & 48.66 & 50.06 & 2.57 & 298.83 & 319.2 & 276.17 & $\\dots$ \\\\\n",
       "\t21 & 2016-01-01T10:30:00+01:00 & 73.71 & 74.07 & 4.39 & 299.76 & 320.39 & 276.3 & $\\dots$ \\\\\n",
       "\t22 & 2016-01-01T11:00:00+01:00 & 78.44 & 78.59 & 3.9 & 307.03 & 321.44 & 276.41 & $\\dots$ \\\\\n",
       "\t23 & 2016-01-01T11:30:00+01:00 & 49.44 & 45.16 & 0.66 & 296.42 & 321.24 & 276.505 & $\\dots$ \\\\\n",
       "\t24 & 2016-01-01T12:00:00+01:00 & 78.93 & 75.57 & 4.01 & 298.44 & 322.14 & 276.54 & $\\dots$ \\\\\n",
       "\t25 & 2016-01-01T12:30:00+01:00 & 117.43 & 114.57 & 7.04 & 287.9 & 323.22 & 276.62 & $\\dots$ \\\\\n",
       "\t26 & 2016-01-01T13:00:00+01:00 & 91.25 & 89.47 & 4.24 & 299.97 & 323.7 & 276.72 & $\\dots$ \\\\\n",
       "\t27 & 2016-01-01T13:30:00+01:00 & 74.78 & 73.68 & 2.54 & 312.62 & 323.93 & 276.78 & $\\dots$ \\\\\n",
       "\t28 & 2016-01-01T14:00:00+01:00 & 84.24 & 87.86 & 3.52 & 319.55 & 324.8 & 276.885 & $\\dots$ \\\\\n",
       "\t29 & 2016-01-01T14:30:00+01:00 & 64.82 & 68.13 & 1.33 & 320.3 & 325.23 & 276.945 & $\\dots$ \\\\\n",
       "\t30 & 2016-01-01T15:00:00+01:00 & 74.37 & 81.28 & 1.56 & 312.42 & 326.24 & 277.02 & $\\dots$ \\\\\n",
       "\t$\\dots$ & $\\dots$ & $\\dots$ & $\\dots$ & $\\dots$ & $\\dots$ & $\\dots$ & $\\dots$ &  \\\\\n",
       "\\end{tabular}\n"
      ],
      "text/plain": [
       "\u001b[1m52608×10 DataFrame\u001b[0m\n",
       "\u001b[1m   Row \u001b[0m│\u001b[1m datetime                  \u001b[0m\u001b[1m sw_sky  \u001b[0m\u001b[1m sw_sky_d \u001b[0m\u001b[1m sw_out       \u001b[0m\u001b[1m lw_sky  \u001b[0m\u001b[1m \u001b[0m ⋯\n",
       "\u001b[1m       \u001b[0m│\u001b[90m ZonedDat…                 \u001b[0m\u001b[90m Float64 \u001b[0m\u001b[90m Float64? \u001b[0m\u001b[90m Float64?     \u001b[0m\u001b[90m Float64 \u001b[0m\u001b[90m \u001b[0m ⋯\n",
       "───────┼────────────────────────────────────────────────────────────────────────\n",
       "     1 │ 2016-01-01T00:30:00+01:00    0.0    0.0        0.0          315.43    ⋯\n",
       "     2 │ 2016-01-01T01:00:00+01:00    0.0    0.0        0.0          316.54\n",
       "     3 │ 2016-01-01T01:30:00+01:00    0.0    0.0        0.0          317.94\n",
       "     4 │ 2016-01-01T02:00:00+01:00    0.0    0.0        0.0          316.63\n",
       "     5 │ 2016-01-01T02:30:00+01:00    0.0    0.0        0.0          318.29    ⋯\n",
       "     6 │ 2016-01-01T03:00:00+01:00    0.0    0.0        0.0          318.01\n",
       "     7 │ 2016-01-01T03:30:00+01:00    0.0    0.0        0.0          318.76\n",
       "     8 │ 2016-01-01T04:00:00+01:00    0.0    0.0        0.0          318.37\n",
       "     9 │ 2016-01-01T04:30:00+01:00    0.0    0.0        0.0          318.18    ⋯\n",
       "    10 │ 2016-01-01T05:00:00+01:00    0.0    0.0        0.0          316.44\n",
       "    11 │ 2016-01-01T05:30:00+01:00    0.0    0.0        0.0          313.79\n",
       "   ⋮   │             ⋮                 ⋮        ⋮           ⋮           ⋮      ⋱\n",
       " 52599 │ 2018-12-31T19:30:00+01:00    0.0    1.008      0.0          341.88  \u001b[90m\u001b[0m\n",
       " 52600 │ 2018-12-31T20:00:00+01:00    0.0    0.978667   0.0          342.44  \u001b[90m \u001b[0m ⋯\n",
       " 52601 │ 2018-12-31T20:30:00+01:00    0.0    1.00833   -0.356667     340.857 \u001b[90m\u001b[0m\n",
       " 52602 │ 2018-12-31T21:00:00+01:00    0.0    0.997      0.950667     341.7   \u001b[90m\u001b[0m\n",
       " 52603 │ 2018-12-31T21:30:00+01:00    0.0    0.962      1.307        341.143 \u001b[90m\u001b[0m\n",
       " 52604 │ 2018-12-31T22:00:00+01:00    0.0    0.969667   0.356667     342.527 \u001b[90m \u001b[0m ⋯\n",
       " 52605 │ 2018-12-31T22:30:00+01:00    0.0    0.953333   0.594333     342.09  \u001b[90m\u001b[0m\n",
       " 52606 │ 2018-12-31T23:00:00+01:00    0.347  0.977333   0.237667     342.173 \u001b[90m\u001b[0m\n",
       " 52607 │ 2018-12-31T23:30:00+01:00    0.0    1.00733    0.237667     341.21  \u001b[90m\u001b[0m\n",
       " 52608 │ 2019-01-01T00:00:00+01:00    0.0    1.072      0.356333     341.22  \u001b[90m \u001b[0m ⋯\n",
       "\u001b[31m                                                5 columns and 52587 rows omitted\u001b[0m"
      ]
     },
     "execution_count": 5,
     "metadata": {},
     "output_type": "execute_result"
    }
   ],
   "source": [
    "df = read_fluxnet(\"../data/fluxnet_hainich_with_zenith.csv\")"
   ]
  },
  {
   "cell_type": "code",
   "execution_count": 12,
   "metadata": {},
   "outputs": [
    {
     "name": "stdout",
     "output_type": "stream",
     "text": [
      "  2.723919 seconds (11.35 M allocations: 646.701 MiB, 4.19% gc time)\n"
     ]
    },
    {
     "data": {
      "text/plain": [
       "52608×18 Array{Float64,2}:\n",
       " 0.0  0.0  0.0  0.0  0.0  0.0  4.40587  …  20.0  1.28676  0.575  0.525053\n",
       " 0.0  0.0  0.0  0.0  0.0  0.0  4.40587     20.0  1.28676  0.575  0.525053\n",
       " 0.0  0.0  0.0  0.0  0.0  0.0  4.40587     20.0  1.28676  0.575  0.525053\n",
       " 0.0  0.0  0.0  0.0  0.0  0.0  4.40587     20.0  1.28676  0.575  0.525053\n",
       " 0.0  0.0  0.0  0.0  0.0  0.0  4.40587     20.0  1.28676  0.575  0.525053\n",
       " 0.0  0.0  0.0  0.0  0.0  0.0  4.40587  …  20.0  1.28676  0.575  0.525053\n",
       " 0.0  0.0  0.0  0.0  0.0  0.0  4.40587     20.0  1.28676  0.575  0.525053\n",
       " 0.0  0.0  0.0  0.0  0.0  0.0  4.40587     20.0  1.28676  0.575  0.525053\n",
       " 0.0  0.0  0.0  0.0  0.0  0.0  4.40587     20.0  1.28676  0.575  0.525053\n",
       " 0.0  0.0  0.0  0.0  0.0  0.0  4.40587     20.0  1.28676  0.575  0.525053\n",
       " 0.0  0.0  0.0  0.0  0.0  0.0  4.40587  …  20.0  1.28676  0.575  0.525053\n",
       " 0.0  0.0  0.0  0.0  0.0  0.0  4.40587     20.0  1.28676  0.575  0.525053\n",
       " 0.0  0.0  0.0  0.0  0.0  0.0  4.40587     20.0  1.28676  0.575  0.525053\n",
       " ⋮                        ⋮             ⋱        ⋮               \n",
       " 0.0  0.0  0.0  0.0  0.0  0.0  4.40587     20.0  1.28676  0.575  0.525053\n",
       " 0.0  0.0  0.0  0.0  0.0  0.0  4.40587     20.0  1.28676  0.575  0.525053\n",
       " 0.0  0.0  0.0  0.0  0.0  0.0  4.40587     20.0  1.28676  0.575  0.525053\n",
       " 0.0  0.0  0.0  0.0  0.0  0.0  4.40587     20.0  1.28676  0.575  0.525053\n",
       " 0.0  0.0  0.0  0.0  0.0  0.0  4.40587  …  20.0  1.28676  0.575  0.525053\n",
       " 0.0  0.0  0.0  0.0  0.0  0.0  4.40587     20.0  1.28676  0.575  0.525053\n",
       " 0.0  0.0  0.0  0.0  0.0  0.0  4.40587     20.0  1.28676  0.575  0.525053\n",
       " 0.0  0.0  0.0  0.0  0.0  0.0  4.40587     20.0  1.28676  0.575  0.525053\n",
       " 0.0  0.0  0.0  0.0  0.0  0.0  4.40587     20.0  1.28676  0.575  0.525053\n",
       " 0.0  0.0  0.0  0.0  0.0  0.0  4.40587  …  20.0  1.28676  0.575  0.525053\n",
       " 0.0  0.0  0.0  0.0  0.0  0.0  4.40587     20.0  1.28676  0.575  0.525053\n",
       " 0.0  0.0  0.0  0.0  0.0  0.0  4.40587     20.0  1.28676  0.575  0.525053"
      ]
     },
     "execution_count": 12,
     "metadata": {},
     "output_type": "execute_result"
    }
   ],
   "source": [
    "@time out = radiative_transfer_over_input(df, params)"
   ]
  },
  {
   "cell_type": "code",
   "execution_count": null,
   "metadata": {},
   "outputs": [],
   "source": []
  },
  {
   "cell_type": "code",
   "execution_count": 6,
   "metadata": {},
   "outputs": [
    {
     "data": {
      "text/plain": [
       "Gtk.GtkWindowLeaf(name=\"\", parent, width-request=-1, height-request=-1, visible=TRUE, sensitive=TRUE, app-paintable=FALSE, can-focus=FALSE, has-focus=FALSE, is-focus=FALSE, focus-on-click=TRUE, can-default=FALSE, has-default=FALSE, receives-default=FALSE, composite-child=FALSE, style, events=0, no-show-all=FALSE, has-tooltip=FALSE, tooltip-markup=NULL, tooltip-text=NULL, window, opacity=1,000000, double-buffered, halign=GTK_ALIGN_FILL, valign=GTK_ALIGN_FILL, margin-left, margin-right, margin-start=0, margin-end=0, margin-top=0, margin-bottom=0, margin=0, hexpand=FALSE, vexpand=FALSE, hexpand-set=FALSE, vexpand-set=FALSE, expand=FALSE, scale-factor=1, border-width=0, resize-mode, child, type=GTK_WINDOW_TOPLEVEL, title=\"Profile\", role=NULL, resizable=TRUE, modal=FALSE, window-position=GTK_WIN_POS_NONE, default-width=800, default-height=600, destroy-with-parent=FALSE, hide-titlebar-when-maximized=FALSE, icon, icon-name=NULL, screen, type-hint=GDK_WINDOW_TYPE_HINT_NORMAL, skip-taskbar-hint=FALSE, skip-pager-hint=FALSE, urgency-hint=FALSE, accept-focus=TRUE, focus-on-map=TRUE, decorated=TRUE, deletable=TRUE, gravity=GDK_GRAVITY_NORTH_WEST, transient-for, attached-to, has-resize-grip, resize-grip-visible, application, is-active=TRUE, has-toplevel-focus=TRUE, startup-id, mnemonics-visible=FALSE, focus-visible=FALSE, is-maximized=FALSE)"
      ]
     },
     "execution_count": 6,
     "metadata": {},
     "output_type": "execute_result"
    }
   ],
   "source": [
    "@profview out = radiative_transfer_over_input(df, params)"
   ]
  },
  {
   "cell_type": "code",
   "execution_count": null,
   "metadata": {},
   "outputs": [],
   "source": [
    "@profview out = radiative_transfer_over_input(df, params)"
   ]
  },
  {
   "cell_type": "code",
   "execution_count": 55,
   "metadata": {},
   "outputs": [
    {
     "data": {
      "text/plain": [
       "update (generic function with 1 method)"
      ]
     },
     "execution_count": 55,
     "metadata": {},
     "output_type": "execute_result"
    }
   ],
   "source": [
    "function update(v)\n",
    "    v = [1,2,3]\n",
    "end"
   ]
  },
  {
   "cell_type": "code",
   "execution_count": 56,
   "metadata": {},
   "outputs": [
    {
     "data": {
      "text/plain": [
       "100×3 Array{Float64,2}:\n",
       " 0.0  0.0  0.0\n",
       " 0.0  0.0  0.0\n",
       " 0.0  0.0  0.0\n",
       " 0.0  0.0  0.0\n",
       " 0.0  0.0  0.0\n",
       " 0.0  0.0  0.0\n",
       " 0.0  0.0  0.0\n",
       " 0.0  0.0  0.0\n",
       " 0.0  0.0  0.0\n",
       " 0.0  0.0  0.0\n",
       " 0.0  0.0  0.0\n",
       " 0.0  0.0  0.0\n",
       " 0.0  0.0  0.0\n",
       " ⋮         \n",
       " 0.0  0.0  0.0\n",
       " 0.0  0.0  0.0\n",
       " 0.0  0.0  0.0\n",
       " 0.0  0.0  0.0\n",
       " 0.0  0.0  0.0\n",
       " 0.0  0.0  0.0\n",
       " 0.0  0.0  0.0\n",
       " 0.0  0.0  0.0\n",
       " 0.0  0.0  0.0\n",
       " 0.0  0.0  0.0\n",
       " 0.0  0.0  0.0\n",
       " 0.0  0.0  0.0"
      ]
     },
     "execution_count": 56,
     "metadata": {},
     "output_type": "execute_result"
    }
   ],
   "source": [
    "z = zeros(100,3)"
   ]
  },
  {
   "cell_type": "code",
   "execution_count": 61,
   "metadata": {},
   "outputs": [
    {
     "data": {
      "text/plain": [
       "3-element view(::Array{Float64,2}, 1, :) with eltype Float64:\n",
       " 0.0\n",
       " 0.0\n",
       " 0.0"
      ]
     },
     "execution_count": 61,
     "metadata": {},
     "output_type": "execute_result"
    }
   ],
   "source": [
    "a = @view z[1,:]"
   ]
  },
  {
   "cell_type": "code",
   "execution_count": 65,
   "metadata": {},
   "outputs": [
    {
     "data": {
      "text/plain": [
       "3-element Array{Int64,1}:\n",
       " 1\n",
       " 2\n",
       " 3"
      ]
     },
     "execution_count": 65,
     "metadata": {},
     "output_type": "execute_result"
    }
   ],
   "source": [
    "a = [1,2,3]"
   ]
  },
  {
   "cell_type": "code",
   "execution_count": 68,
   "metadata": {},
   "outputs": [
    {
     "data": {
      "text/plain": [
       "3-element view(::Array{Float64,2}, 1, :) with eltype Float64:\n",
       " 0.0\n",
       " 0.0\n",
       " 0.0"
      ]
     },
     "execution_count": 68,
     "metadata": {},
     "output_type": "execute_result"
    }
   ],
   "source": [
    "a = view(z, 1, :)"
   ]
  },
  {
   "cell_type": "code",
   "execution_count": 70,
   "metadata": {},
   "outputs": [
    {
     "data": {
      "text/plain": [
       "3-element Array{Float64,1}:\n",
       " 1.0\n",
       " 2.0\n",
       " 3.0"
      ]
     },
     "execution_count": 70,
     "metadata": {},
     "output_type": "execute_result"
    }
   ],
   "source": [
    "a = [1.,2.,3.]"
   ]
  },
  {
   "cell_type": "code",
   "execution_count": 71,
   "metadata": {},
   "outputs": [
    {
     "data": {
      "text/plain": [
       "100×3 Array{Float64,2}:\n",
       " 0.0  0.0  0.0\n",
       " 0.0  0.0  0.0\n",
       " 0.0  0.0  0.0\n",
       " 0.0  0.0  0.0\n",
       " 0.0  0.0  0.0\n",
       " 0.0  0.0  0.0\n",
       " 0.0  0.0  0.0\n",
       " 0.0  0.0  0.0\n",
       " 0.0  0.0  0.0\n",
       " 0.0  0.0  0.0\n",
       " 0.0  0.0  0.0\n",
       " 0.0  0.0  0.0\n",
       " 0.0  0.0  0.0\n",
       " ⋮         \n",
       " 0.0  0.0  0.0\n",
       " 0.0  0.0  0.0\n",
       " 0.0  0.0  0.0\n",
       " 0.0  0.0  0.0\n",
       " 0.0  0.0  0.0\n",
       " 0.0  0.0  0.0\n",
       " 0.0  0.0  0.0\n",
       " 0.0  0.0  0.0\n",
       " 0.0  0.0  0.0\n",
       " 0.0  0.0  0.0\n",
       " 0.0  0.0  0.0\n",
       " 0.0  0.0  0.0"
      ]
     },
     "execution_count": 71,
     "metadata": {},
     "output_type": "execute_result"
    }
   ],
   "source": [
    "z"
   ]
  },
  {
   "cell_type": "code",
   "execution_count": 63,
   "metadata": {},
   "outputs": [],
   "source": [
    "for r in z\n",
    "    update(view(z, 1,:))\n",
    "end"
   ]
  },
  {
   "cell_type": "code",
   "execution_count": 64,
   "metadata": {},
   "outputs": [
    {
     "data": {
      "text/plain": [
       "100×3 Array{Float64,2}:\n",
       " 0.0  0.0  0.0\n",
       " 0.0  0.0  0.0\n",
       " 0.0  0.0  0.0\n",
       " 0.0  0.0  0.0\n",
       " 0.0  0.0  0.0\n",
       " 0.0  0.0  0.0\n",
       " 0.0  0.0  0.0\n",
       " 0.0  0.0  0.0\n",
       " 0.0  0.0  0.0\n",
       " 0.0  0.0  0.0\n",
       " 0.0  0.0  0.0\n",
       " 0.0  0.0  0.0\n",
       " 0.0  0.0  0.0\n",
       " ⋮         \n",
       " 0.0  0.0  0.0\n",
       " 0.0  0.0  0.0\n",
       " 0.0  0.0  0.0\n",
       " 0.0  0.0  0.0\n",
       " 0.0  0.0  0.0\n",
       " 0.0  0.0  0.0\n",
       " 0.0  0.0  0.0\n",
       " 0.0  0.0  0.0\n",
       " 0.0  0.0  0.0\n",
       " 0.0  0.0  0.0\n",
       " 0.0  0.0  0.0\n",
       " 0.0  0.0  0.0"
      ]
     },
     "execution_count": 64,
     "metadata": {},
     "output_type": "execute_result"
    }
   ],
   "source": []
  },
  {
   "cell_type": "code",
   "execution_count": 80,
   "metadata": {},
   "outputs": [
    {
     "data": {
      "text/plain": [
       "2×2 Array{Int64,2}:\n",
       " 8  2\n",
       " 9  4"
      ]
     },
     "execution_count": 80,
     "metadata": {},
     "output_type": "execute_result"
    }
   ],
   "source": [
    "A = [1 2; 3 4]\n",
    "b = view(A, :, 1)\n",
    "b[:] = [8, 9]\n",
    "A"
   ]
  },
  {
   "cell_type": "code",
   "execution_count": null,
   "metadata": {},
   "outputs": [],
   "source": []
  },
  {
   "cell_type": "code",
   "execution_count": null,
   "metadata": {},
   "outputs": [],
   "source": []
  },
  {
   "cell_type": "code",
   "execution_count": null,
   "metadata": {},
   "outputs": [],
   "source": []
  },
  {
   "cell_type": "code",
   "execution_count": null,
   "metadata": {},
   "outputs": [],
   "source": []
  },
  {
   "cell_type": "code",
   "execution_count": null,
   "metadata": {},
   "outputs": [],
   "source": []
  }
 ],
 "metadata": {
  "kernelspec": {
   "display_name": "Julia 1.5.2",
   "language": "julia",
   "name": "julia-1.5"
  },
  "language_info": {
   "file_extension": ".jl",
   "mimetype": "application/julia",
   "name": "julia",
   "version": "1.5.3"
  }
 },
 "nbformat": 4,
 "nbformat_minor": 4
}
